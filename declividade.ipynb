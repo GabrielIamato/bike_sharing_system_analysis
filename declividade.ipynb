{
 "cells": [
  {
   "cell_type": "code",
   "execution_count": null,
   "id": "7d2fe727-bb2d-45c9-bde5-daca3b4eb78d",
   "metadata": {},
   "outputs": [],
   "source": [
    "import pandas as pd\n",
    "import geopandas as gpd\n",
    "import folium\n",
    "import geopy\n",
    "from geopy.distance import geodesic\n",
    "from shapely.geometry import Point"
   ]
  },
  {
   "cell_type": "code",
   "execution_count": null,
   "id": "157b1ac8-fe9e-4745-934f-a26a1f5dfa81",
   "metadata": {},
   "outputs": [],
   "source": [
    "distritos = gpd.read_file(\"./SIRGAS_SHP_distrito/SIRGAS_SHP_distrito.shp\")\n",
    "populacao = pd.read_csv(\"./Agregados_por_CEP_CNEFE_Censo_2022/Agregados_por_CEP_CNEFE_Censo_2022.csv\", sep = \";\" )\n",
    "estacoes = pd.read_parquet(\"estacoes_reestruturadas.parquet\")\n",
    "declividade = gpd.read_file(\"./declividade/sad6996_declividade.shp\")"
   ]
  },
  {
   "cell_type": "code",
   "execution_count": null,
   "id": "523b194f-047c-4a0f-81ba-5a5967d44def",
   "metadata": {},
   "outputs": [],
   "source": [
    "def criar_circulos_estacao(data, radius_km):\n",
    "    circles = []\n",
    "    for _, row in data.iterrows():\n",
    "        circle_points = []\n",
    "        center = (row['lat'], row['lon'])\n",
    "        for angle in range(0,360, 1): ## intervalo de 1 grau para cada ponto do círculo\n",
    "            destination = geopy.distance.distance(kilometers = radius_km).destination(center, angle)\n",
    "            circle_points.append(Point(destination.longitude, destination.latitude))\n",
    "        circle = gpd.GeoSeries(circle_points).unary_union.convex_hull\n",
    "        circles.append(circle)\n",
    "    data.rename(columns = {'geometry':'point'}, inplace = True)\n",
    "    circles_gdf = gpd.GeoDataFrame(data, geometry = circles)\n",
    "    circles_gdf.rename(columns = {'geometry':'circle'}, inplace = True)\n",
    "    return circles_gdf\n",
    "\n",
    "def adicionar_estacoes_com_circulos_mapa(mapa, df_estacoes, radius_km):\n",
    "    layer_estacoes =  folium.FeatureGroup(name = \"Estações\")\n",
    "    layer_circulos_estacoes = folium.FeatureGroup(name = f\"Redondezas {radius_km} km\") \n",
    "    if \"circle\" not in df_estacoes:\n",
    "        data = criar_circulos_estacao(df_estacoes, radius_km)\n",
    "    else:\n",
    "        data = df_estacoes.copy()\n",
    "    data.set_geometry(\"circle\", inplace = True)\n",
    "    for _, row in data.iterrows():\n",
    "        folium.CircleMarker(\n",
    "                    location=[row['lat'],row['lon']],\n",
    "                    color = \"blue\",\n",
    "                    radius= 5,\n",
    "                    tooltip= row['name'],\n",
    "                    fill=True,\n",
    "                    fill_opacity=1,\n",
    "                    fill_color=\"blue\",\n",
    "                ).add_to(layer_estacoes)\n",
    "    for _, row in data.iterrows():\n",
    "        # cor = get_color(row['CLASSE'])\n",
    "    \n",
    "        folium.GeoJson(\n",
    "            row['circle'].__geo_interface__, \n",
    "            tooltip = row['name'],\n",
    "            style_function=lambda x:{'fillColor': 'gray', 'color': 'gray', 'fillOpacity': 0.0},\n",
    "        ).add_to(layer_circulos_estacoes)\n",
    "        layer_estacoes.add_to(mapa)\n",
    "        layer_circulos_estacoes.add_to(mapa)\n",
    "        folium.LayerControl().add_to(mapa)\n",
    "    return mapa\n",
    "\n",
    "def get_color(valor):\n",
    "    if valor == 1:\n",
    "        return \"yellow\"\n",
    "    elif valor == 2:\n",
    "        return \"orange\"\n",
    "    elif valor == 3:\n",
    "        return \"red\"\n",
    "    elif valor == 4:\n",
    "        return \"darkred\"\n",
    "    else:\n",
    "        return \"black\" # error\n",
    "\n",
    "def criar_mapa_sp():\n",
    "    mapa_sp = folium.Map(location = [-23.550520, -46.633308], zoom_start = 12)\n",
    "    return mapa_sp\n",
    "    \n",
    "def tratar_df_estacoes(df_estacoes):\n",
    "    df_estacoes = gpd.GeoDataFrame(df_estacoes, geometry = gpd.points_from_xy(df_estacoes['lon'], df_estacoes['lat']))\n",
    "    df_estacoes = df_estacoes.set_crs(\"EPSG:4326\")\n",
    "    return df_estacoes\n",
    "\n",
    "def tratar_df_declividade(df_declividade):\n",
    "    df_declividade = df_declividade.set_crs(\"EPSG:29183\")  # Define o CRS, se ainda não estiver definido\n",
    "    df_declividade = df_declividade.to_crs(\"EPSG:4326\")   # Converte para WGS84 (latitude/longitude)\n",
    "    substituicoes = {\n",
    "        '0 a 05%': 1,\n",
    "        '05 a 25%': 2,\n",
    "        '25 a 60%': 3,\n",
    "        '> 60%': 4\n",
    "    }\n",
    "\n",
    "    # Substituindo valores\n",
    "    df_declividade['CLASSE'] = df_declividade['CLASSE'].replace(substituicoes).astype(int)\n",
    "    return df_declividade\n",
    "def analise_declividade(df_estacoes, df_declividade, radius_km):\n",
    "    mapa = criar_mapa_sp()\n",
    "    df_estacoes_circulo = criar_circulos_estacao(df_estacoes, radius_km)\n",
    "    df_estacoes_circulo.set_geometry(\"circle\", inplace=True)  \n",
    "    cruzamentos =  gpd.sjoin(df_estacoes_circulo, df_declividade, how=\"inner\", predicate=\"intersects\")\n",
    "    \n",
    "    cruzamentos_finais = cruzamentos[[\n",
    "        \"name\",  # Nome da estação\n",
    "        \"circle\",  # Geometria 'circle' da estação\n",
    "        \"point\",  # Geometria 'point' da estação\n",
    "        \"ID\",     # ID da declividade\n",
    "        \"AREA\",   # Área do distrito\n",
    "        \"CLASSE\", # Código do distrito\n",
    "    ]].copy()\n",
    "    \n",
    "    cruzamentos_finais[\"district_geometry\"] = df_declividade.loc[cruzamentos[\"index_right\"], \"geometry\"].values\n",
    "    declividade_necessaria_para_plot = cruzamentos_finais.drop_duplicates(subset='district_geometry')\n",
    "\n",
    "    declividade_necessaria_para_plot['intersection'] =  declividade_necessaria_para_plot.apply(lambda row: \n",
    "            (row['circle'].intersection(row['district_geometry'])).area if not row['circle'].intersection(row['district_geometry']).is_empty \n",
    "                                                                                               else 0, axis=1)\n",
    "    \n",
    "    # return declividade_necessaria_para_plot\n",
    "    layer_declividade = folium.FeatureGroup(name = \"Declividade\")\n",
    "    layer_estacoes =  folium.FeatureGroup(name = \"Estações\")\n",
    "    layer_circulos_estacoes = folium.FeatureGroup(name = f\"Redondezas {radius_km} km\") \n",
    "    for _, row in declividade_necessaria_para_plot.iterrows():\n",
    "        cor = get_color(row['CLASSE'])\n",
    "        geo_json = row['district_geometry'].__geo_interface__\n",
    "        folium.GeoJson(\n",
    "            geo_json, \n",
    "            tooltip = str(row['ID']) + \" Classe \" + str(row['CLASSE']),\n",
    "            style_function = lambda x, color = cor:{'fillColor' : color , 'color' : color, 'weight' : 1}\n",
    "        ).add_to(layer_declividade)\n",
    "\n",
    "    for _, row in df_estacoes_circulo.iterrows():\n",
    "        folium.CircleMarker(\n",
    "                    location=[row['lat'],row['lon']],\n",
    "                    color = \"blue\",\n",
    "                    radius= 5,\n",
    "                    tooltip= row['name'],\n",
    "                    fill=True,\n",
    "                    fill_opacity=1,\n",
    "                    fill_color=\"blue\",\n",
    "                ).add_to(layer_estacoes)\n",
    "    for _, row in df_estacoes_circulo.iterrows():\n",
    "        # cor = get_color(row['CLASSE'])\n",
    "    \n",
    "        folium.GeoJson(\n",
    "            row['circle'].__geo_interface__, \n",
    "            tooltip = row['name'],\n",
    "            style_function=lambda x:{'fillColor': 'gray', 'color': 'gray', 'fillOpacity': 0.0},\n",
    "        ).add_to(layer_circulos_estacoes)\n",
    "        \n",
    "    layer_declividade.add_to(mapa)\n",
    "    layer_estacoes.add_to(mapa)\n",
    "    layer_circulos_estacoes.add_to(mapa)\n",
    "    folium.LayerControl().add_to(mapa)\n",
    "\n",
    "    return mapa\n",
    "    \n",
    "    "
   ]
  },
  {
   "cell_type": "code",
   "execution_count": null,
   "id": "59edcd8d-8870-4882-93ce-5dcb25b3651f",
   "metadata": {},
   "outputs": [],
   "source": [
    "estacoes = tratar_df_estacoes(estacoes)\n",
    "declividade = tratar_df_declividade(declividade)\n"
   ]
  },
  {
   "cell_type": "code",
   "execution_count": null,
   "id": "a67b5942-0c38-4108-a078-759ab98c4b3c",
   "metadata": {},
   "outputs": [],
   "source": [
    "analise_declividade(estacoes,declividade, 1)"
   ]
  },
  {
   "cell_type": "code",
   "execution_count": null,
   "id": "a82fe5a8-43d3-4476-b49b-45a9614cce53",
   "metadata": {},
   "outputs": [],
   "source": [
    "populacao.head()"
   ]
  },
  {
   "cell_type": "code",
   "execution_count": null,
   "id": "c99e61f0-1a1b-4347-813e-c1b8d65746ba",
   "metadata": {},
   "outputs": [],
   "source": [
    "estacoes.head()"
   ]
  },
  {
   "cell_type": "code",
   "execution_count": null,
   "id": "2d26253c-fc37-4875-9465-1b9dcdd370dc",
   "metadata": {},
   "outputs": [],
   "source": [
    "declividade.head()"
   ]
  },
  {
   "cell_type": "code",
   "execution_count": null,
   "id": "9e7e1d99-1ad8-4a7d-93c8-465796878efd",
   "metadata": {},
   "outputs": [],
   "source": [
    "declividade.shape"
   ]
  },
  {
   "cell_type": "code",
   "execution_count": null,
   "id": "3cc07f57-12b6-469f-9e8a-b559d036873c",
   "metadata": {},
   "outputs": [],
   "source": [
    "declividade.isnull().sum()"
   ]
  },
  {
   "cell_type": "code",
   "execution_count": null,
   "id": "7415bec5-06a4-4754-ac87-09a9f793da34",
   "metadata": {},
   "outputs": [],
   "source": [
    "declividade['CLASSE'].value_counts()"
   ]
  }
 ],
 "metadata": {
  "kernelspec": {
   "display_name": "Python 3 (ipykernel)",
   "language": "python",
   "name": "python3"
  },
  "language_info": {
   "codemirror_mode": {
    "name": "ipython",
    "version": 3
   },
   "file_extension": ".py",
   "mimetype": "text/x-python",
   "name": "python",
   "nbconvert_exporter": "python",
   "pygments_lexer": "ipython3",
   "version": "3.11.5"
  }
 },
 "nbformat": 4,
 "nbformat_minor": 5
}
