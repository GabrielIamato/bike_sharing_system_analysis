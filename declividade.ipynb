{
 "cells": [
  {
   "cell_type": "code",
   "execution_count": null,
   "id": "7d2fe727-bb2d-45c9-bde5-daca3b4eb78d",
   "metadata": {},
   "outputs": [],
   "source": [
    "import pandas as pd\n",
    "import geopandas as gpd\n",
    "import folium\n",
    "#ok"
   ]
  },
  {
   "cell_type": "code",
   "execution_count": null,
   "id": "157b1ac8-fe9e-4745-934f-a26a1f5dfa81",
   "metadata": {},
   "outputs": [],
   "source": [
    "distritos = gpd.read_file(\"./SIRGAS_SHP_distrito/SIRGAS_SHP_distrito.shp\")\n",
    "populacao = pd.read_csv(\"./Agregados_por_CEP_CNEFE_Censo_2022/Agregados_por_CEP_CNEFE_Censo_2022.csv\", sep = \";\" )\n",
    "estacoes = pd.read_parquet(\"estacoes_reestruturadas.parquet\")\n",
    "declividade = gpd.read_file(\"./declividade/sad6996_declividade.shp\")"
   ]
  },
  {
   "cell_type": "code",
   "execution_count": null,
   "id": "a67b5942-0c38-4108-a078-759ab98c4b3c",
   "metadata": {},
   "outputs": [],
   "source": [
    "distritos"
   ]
  },
  {
   "cell_type": "code",
   "execution_count": null,
   "id": "a82fe5a8-43d3-4476-b49b-45a9614cce53",
   "metadata": {},
   "outputs": [],
   "source": [
    "populacao.head()"
   ]
  },
  {
   "cell_type": "code",
   "execution_count": null,
   "id": "c99e61f0-1a1b-4347-813e-c1b8d65746ba",
   "metadata": {},
   "outputs": [],
   "source": [
    "estacoes.head()"
   ]
  },
  {
   "cell_type": "code",
   "execution_count": null,
   "id": "2d26253c-fc37-4875-9465-1b9dcdd370dc",
   "metadata": {},
   "outputs": [],
   "source": [
    "declividade.head()"
   ]
  },
  {
   "cell_type": "code",
   "execution_count": null,
   "id": "9e7e1d99-1ad8-4a7d-93c8-465796878efd",
   "metadata": {},
   "outputs": [],
   "source": [
    "declividade.shape"
   ]
  },
  {
   "cell_type": "code",
   "execution_count": null,
   "id": "3cc07f57-12b6-469f-9e8a-b559d036873c",
   "metadata": {},
   "outputs": [],
   "source": [
    "declividade.isnull().sum()"
   ]
  },
  {
   "cell_type": "code",
   "execution_count": null,
   "id": "7415bec5-06a4-4754-ac87-09a9f793da34",
   "metadata": {},
   "outputs": [],
   "source": [
    "declividade['CLASSE'].value_counts()"
   ]
  },
  {
   "cell_type": "markdown",
   "id": "be4f082f-5221-493f-99a8-a6ad8636bfdf",
   "metadata": {},
   "source": [
    "## Transformação de classes \n",
    "- 0 a 05% = 1\n",
    "- 05 a 25% = 2\n",
    "- 25 a 60% = 3\n",
    "- maior que 60% = 4"
   ]
  },
  {
   "cell_type": "code",
   "execution_count": null,
   "id": "ed553574-6691-45f6-80af-1217380a4655",
   "metadata": {},
   "outputs": [],
   "source": [
    "# Dicionário\n",
    "substituicoes = {\n",
    "    '0 a 05%': 1,\n",
    "    '05 a 25%': 2,\n",
    "    '25 a 60%': 3,\n",
    "    '> 60%': 4\n",
    "}\n",
    "\n",
    "# Substituindo valores\n",
    "declividade['CLASSE'] = declividade['CLASSE'].replace(substituicoes).astype(int)"
   ]
  },
  {
   "cell_type": "code",
   "execution_count": null,
   "id": "fd40f38a-a8c8-4dfe-95ac-0d75700b595a",
   "metadata": {},
   "outputs": [],
   "source": [
    "latitude = -23.550520\n",
    "longitude = -46.633308\n",
    "mapa_sp = folium.Map(location = [latitude, longitude], zoom_start = 12)"
   ]
  },
  {
   "cell_type": "code",
   "execution_count": null,
   "id": "e743a0e7-c416-43f3-b844-7776d5d5c525",
   "metadata": {},
   "outputs": [],
   "source": [
    "# mapa_sp"
   ]
  },
  {
   "cell_type": "code",
   "execution_count": null,
   "id": "77aa40e9-c059-4d5f-b9b7-aa9a0b638fc9",
   "metadata": {},
   "outputs": [],
   "source": [
    "declividade = declividade.set_crs(\"EPSG:29183\")  # Define o CRS, se ainda não estiver definido\n",
    "declividade = declividade.to_crs(\"EPSG:4326\")   # Converte para WGS84 (latitude/longitude)"
   ]
  },
  {
   "cell_type": "code",
   "execution_count": null,
   "id": "37fa9305-d9ef-412d-95b1-7760aa9a1ee2",
   "metadata": {},
   "outputs": [],
   "source": [
    "\n",
    "def get_color(valor):\n",
    "    if valor == 1:\n",
    "        return \"yellow\"\n",
    "    elif valor == 2:\n",
    "        return \"orange\"\n",
    "    elif valor == 3:\n",
    "        return \"red\"\n",
    "    elif valor == 4:\n",
    "        return \"darkred\"\n",
    "    else:\n",
    "        return \"black\" # error\n"
   ]
  },
  {
   "cell_type": "code",
   "execution_count": null,
   "id": "568907b9-fd3d-485e-996b-f92b88b25040",
   "metadata": {},
   "outputs": [],
   "source": [
    "## Adicionando geometrias ao mapa coloridas\n",
    "for _, row in declividade.iterrows():\n",
    "        cor = get_color(row['CLASSE'])\n",
    "    \n",
    "        folium.GeoJson(\n",
    "            row['geometry'].__geo_interface__, \n",
    "            name = row.get('ID', 'Sem id'),\n",
    "            tooltip = row.get('ID', 'Sem id'),\n",
    "            style_function = lambda x, color = cor:{'fillColor' : color , 'color' : color, 'weight' : 1}\n",
    "        ).add_to(mapa_sp)"
   ]
  },
  {
   "cell_type": "code",
   "execution_count": null,
   "id": "340a217e-ad73-4df3-8e42-c13f4d8cc6cd",
   "metadata": {},
   "outputs": [],
   "source": [
    "mapa_sp"
   ]
  },
  {
   "cell_type": "code",
   "execution_count": null,
   "id": "0a4ad52e-7eb3-4ef9-bd7f-b211cd87a380",
   "metadata": {},
   "outputs": [],
   "source": [
    "declividade"
   ]
  },
  {
   "cell_type": "code",
   "execution_count": null,
   "id": "a8184143-818b-4db0-a90a-7cf71fcc8207",
   "metadata": {},
   "outputs": [],
   "source": []
  }
 ],
 "metadata": {
  "kernelspec": {
   "display_name": "Python 3 (ipykernel)",
   "language": "python",
   "name": "python3"
  },
  "language_info": {
   "codemirror_mode": {
    "name": "ipython",
    "version": 3
   },
   "file_extension": ".py",
   "mimetype": "text/x-python",
   "name": "python",
   "nbconvert_exporter": "python",
   "pygments_lexer": "ipython3",
   "version": "3.11.5"
  }
 },
 "nbformat": 4,
 "nbformat_minor": 5
}
